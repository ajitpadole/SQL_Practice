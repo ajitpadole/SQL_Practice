{
  "cells": [
    {
      "cell_type": "markdown",
      "metadata": {
        "id": "view-in-github",
        "colab_type": "text"
      },
      "source": [
        "<a href=\"https://colab.research.google.com/github/ajitpadole/SQL_Practice/blob/main/SQL_coding_qutions.ipynb\" target=\"_parent\"><img src=\"https://colab.research.google.com/assets/colab-badge.svg\" alt=\"Open In Colab\"/></a>"
      ]
    },
    {
      "cell_type": "markdown",
      "id": "6c39fab9",
      "metadata": {
        "id": "6c39fab9"
      },
      "source": [
        "### Write an SQL query to fetch “FIRST_NAME” from the Worker table using the alias name <WORKER_NAME>."
      ]
    },
    {
      "cell_type": "markdown",
      "id": "f9579dd7",
      "metadata": {
        "id": "f9579dd7"
      },
      "source": [
        "Select FIRST_NAME AS WORKER_NAME from Worker;"
      ]
    },
    {
      "cell_type": "markdown",
      "id": "e84ced31",
      "metadata": {
        "id": "e84ced31"
      },
      "source": [
        "### Write an SQL query to print the first three characters of  FIRST_NAME from the Worker table."
      ]
    },
    {
      "cell_type": "markdown",
      "id": "570cce1f",
      "metadata": {
        "id": "570cce1f"
      },
      "source": [
        "Select substring(FIRST_NAME,1,3) from Worker;"
      ]
    },
    {
      "cell_type": "markdown",
      "id": "5eb54da7",
      "metadata": {
        "id": "5eb54da7"
      },
      "source": [
        "### Write an SQL query to print the FIRST_NAME from the Worker table after removing white spaces from the right side."
      ]
    },
    {
      "cell_type": "markdown",
      "id": "988cb58d",
      "metadata": {
        "id": "988cb58d"
      },
      "source": [
        "Select RTRIM(FIRST_NAME) from Worker;"
      ]
    },
    {
      "cell_type": "markdown",
      "id": "38e55bd9",
      "metadata": {
        "id": "38e55bd9"
      },
      "source": [
        "### Write an SQL query that fetches the unique values of DEPARTMENT from the Worker table and prints its length.\n"
      ]
    },
    {
      "cell_type": "markdown",
      "id": "720bbd8a",
      "metadata": {
        "id": "720bbd8a"
      },
      "source": [
        "Select distinct length(DEPARTMENT) from Worker;"
      ]
    },
    {
      "cell_type": "markdown",
      "id": "452e1a48",
      "metadata": {
        "id": "452e1a48"
      },
      "source": [
        "###  Write an SQL query to print the FIRST_NAME from the Worker table after replacing ‘a’ with ‘A’."
      ]
    },
    {
      "cell_type": "markdown",
      "id": "519c2265",
      "metadata": {
        "id": "519c2265"
      },
      "source": [
        "Select REPLACE(FIRST_NAME,'a','A') from Worker;"
      ]
    },
    {
      "cell_type": "markdown",
      "id": "7a50a85e",
      "metadata": {
        "id": "7a50a85e"
      },
      "source": [
        " ### Write an SQL query to print details of workers excluding first names, “Vipul” and “Satish” from the Worker table."
      ]
    },
    {
      "cell_type": "markdown",
      "id": "050268ff",
      "metadata": {
        "id": "050268ff"
      },
      "source": [
        "Select * from Worker where FIRST_NAME not in ('Vipul','Satish');"
      ]
    },
    {
      "cell_type": "markdown",
      "id": "9d7382bf",
      "metadata": {
        "id": "9d7382bf"
      },
      "source": [
        "### Write an SQL query to print details of the Workers who joined in Feb’2014."
      ]
    },
    {
      "cell_type": "markdown",
      "id": "586367d4",
      "metadata": {
        "id": "586367d4"
      },
      "source": [
        "Select * from Worker where year(JOINING_DATE) = 2014 and month(JOINING_DATE) = 2;"
      ]
    },
    {
      "cell_type": "markdown",
      "id": "11252696",
      "metadata": {
        "id": "11252696"
      },
      "source": [
        "### Write an SQL query to fetch the no. of workers for each department in descending order.\n"
      ]
    },
    {
      "cell_type": "markdown",
      "id": "b6faf9be",
      "metadata": {
        "id": "b6faf9be"
      },
      "source": [
        "SELECT DEPARTMENT, count(WORKER_ID) No_Of_Workers\n",
        "FROM worker\n",
        "GROUP BY DEPARTMENT\n",
        "ORDER BY No_Of_Workers DESC;"
      ]
    },
    {
      "cell_type": "code",
      "execution_count": null,
      "id": "2a4ab169",
      "metadata": {
        "id": "2a4ab169"
      },
      "outputs": [],
      "source": []
    }
  ],
  "metadata": {
    "kernelspec": {
      "display_name": "Python 3 (ipykernel)",
      "language": "python",
      "name": "python3"
    },
    "language_info": {
      "codemirror_mode": {
        "name": "ipython",
        "version": 3
      },
      "file_extension": ".py",
      "mimetype": "text/x-python",
      "name": "python",
      "nbconvert_exporter": "python",
      "pygments_lexer": "ipython3",
      "version": "3.9.13"
    },
    "colab": {
      "provenance": [],
      "include_colab_link": true
    }
  },
  "nbformat": 4,
  "nbformat_minor": 5
}